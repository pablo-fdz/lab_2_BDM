{
 "cells": [
  {
   "cell_type": "markdown",
   "id": "727b9cee",
   "metadata": {},
   "source": [
    "1. put the two folders you download in one folder, for instance lab2, and then create the data folder "
   ]
  },
  {
   "cell_type": "code",
   "execution_count": null,
   "id": "572edad0",
   "metadata": {},
   "outputs": [],
   "source": [
    "mkdir -p ~/Desktop/CodeTerm3/DataManagement/lab2/data/db"
   ]
  },
  {
   "cell_type": "markdown",
   "id": "4b8f9329",
   "metadata": {},
   "source": [
    "2. Add mongo shell and mongo community server to the bash"
   ]
  },
  {
   "cell_type": "code",
   "execution_count": null,
   "id": "7efbeded",
   "metadata": {},
   "outputs": [],
   "source": [
    "nano ~/.bash_profile\n",
    "export PATH=\"$HOME/Desktop/CodeTerm3/DataManagement/lab2/mongodb/mongodb-macos-aarch64-8.0.9/bin:$PATH\"\n",
    "export PATH=\"$HOME/Desktop/CodeTerm3/DataManagement/lab2/mongodb/mongosh-2.5.1-darwin-arm64/bin:$PATH\"\n",
    "\n",
    "# save and reload\n",
    "source ~/.bash_profile\n",
    "\n",
    "# verify \n",
    "mongod --version\n",
    "mongosh --version\n"
   ]
  },
  {
   "cell_type": "markdown",
   "id": "0d016fcd",
   "metadata": {},
   "source": [
    "3. Script to start mongo already created, so you can activate the connection with the database (in a separate terminal)\n",
    "\n",
    "When you run this, you need to be in the 'lab2' folder "
   ]
  },
  {
   "cell_type": "code",
   "execution_count": null,
   "id": "04a2c8f5",
   "metadata": {},
   "outputs": [],
   "source": [
    "./start_mongo.sh\n",
    "\n",
    "# or mongod --dbpath ./data/db if it doesnt work (assuming you are in the 'lab2' folder)"
   ]
  },
  {
   "cell_type": "markdown",
   "id": "5a1d2948",
   "metadata": {},
   "source": [
    "4. Open another terminal and run the scripts to generate data and run the queries "
   ]
  },
  {
   "cell_type": "code",
   "execution_count": null,
   "id": "d19467d6",
   "metadata": {},
   "outputs": [],
   "source": [
    "python m1.py\n",
    "python m2.py\n",
    "python m3.py"
   ]
  },
  {
   "cell_type": "markdown",
   "id": "84a851bc",
   "metadata": {},
   "source": [
    "5. Stop the connection "
   ]
  },
  {
   "cell_type": "code",
   "execution_count": null,
   "id": "fd85048c",
   "metadata": {},
   "outputs": [],
   "source": [
    "./stop_mongo.sh\n",
    "\n",
    "# or ctrl + c if doesn't work "
   ]
  }
 ],
 "metadata": {
  "kernelspec": {
   "display_name": "new",
   "language": "python",
   "name": "python3"
  },
  "language_info": {
   "name": "python",
   "version": "3.10.9"
  }
 },
 "nbformat": 4,
 "nbformat_minor": 5
}
